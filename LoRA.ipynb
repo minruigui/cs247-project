{
 "cells": [
  {
   "cell_type": "code",
   "execution_count": 1,
   "id": "103c3dce",
   "metadata": {
    "scrolled": true
   },
   "outputs": [],
   "source": [
    "import torch"
   ]
  },
  {
   "cell_type": "markdown",
   "id": "ce71adf0",
   "metadata": {},
   "source": [
    "### Load the Mistral 7B model for LoRA Fine-tuning"
   ]
  },
  {
   "cell_type": "code",
   "execution_count": 4,
   "id": "c51c5275",
   "metadata": {},
   "outputs": [
    {
     "data": {
      "application/vnd.jupyter.widget-view+json": {
       "model_id": "4b9bd210b18c4f609c0084af07ad57aa",
       "version_major": 2,
       "version_minor": 0
      },
      "text/plain": [
       "Loading checkpoint shards:   0%|          | 0/2 [00:00<?, ?it/s]"
      ]
     },
     "metadata": {},
     "output_type": "display_data"
    },
    {
     "name": "stdout",
     "output_type": "stream",
     "text": [
      "trainable params: 170,082,304 || all params: 7,411,814,400 || trainable%: 2.2947458587198297\n"
     ]
    }
   ],
   "source": [
    "from peft import LoraConfig, get_peft_model, TaskType\n",
    "from transformers import AutoModelForCausalLM, AutoTokenizer\n",
    "\n",
    "device = \"cuda\"\n",
    "torch.cuda.empty_cache()\n",
    "\n",
    "# Define LoRA Config\n",
    "lora_config = LoraConfig(\n",
    "    r=64, \n",
    "    lora_alpha=16, \n",
    "    target_modules = ['q_proj', 'k_proj', 'down_proj', 'v_proj', 'gate_proj', 'o_proj', 'up_proj', \"lm_head\",],\n",
    "    lora_dropout=0.1, \n",
    "    bias=\"none\", \n",
    "    task_type=\"CAUSAL_LM\"\n",
    ")\n",
    "\n",
    "model = AutoModelForCausalLM.from_pretrained(\"mistralai/Mistral-7B-v0.1\", torch_dtype=torch.bfloat16).to(device)\n",
    "model_lora = get_peft_model(model, lora_config)\n",
    "model_lora.print_trainable_parameters()\n",
    "\n",
    "# trainable params: 170082304 || all params: 7411814400 || trainable%: 2.2947458587198297"
   ]
  },
  {
   "cell_type": "code",
   "execution_count": 5,
   "id": "15b74257",
   "metadata": {},
   "outputs": [
    {
     "name": "stderr",
     "output_type": "stream",
     "text": [
      "\n",
      "No chat template is defined for this tokenizer - using the default template for the LlamaTokenizerFast class. If the default is not appropriate for your model, please set `tokenizer.chat_template` to an appropriate template. See https://huggingface.co/docs/transformers/main/chat_templating for more information.\n",
      "\n",
      "The attention mask and the pad token id were not set. As a consequence, you may observe unexpected behavior. Please pass your input's `attention_mask` to obtain reliable results.\n",
      "Setting `pad_token_id` to `eos_token_id`:2 for open-end generation.\n"
     ]
    },
    {
     "name": "stdout",
     "output_type": "stream",
     "text": [
      "<s> [INST] What is your favourite condiment? [/INST] Well, I'm quite partial to a good squeeze of fresh lemon juice. It adds just the right amount of zesty flavour to whatever I'm cooking up in the kitchen! </s><s> [INST] Do you have mayonnaise recipes? [/INST] I have my own home-made mayonnaise recipe which uses the simple ingredients of eggs, sunflower oil, lemon juice and spices. Give the mayo a shake and I'm all set! ѝ [INST] What are the advantages of a pressure cooker? [/INST] If you invest in a good pressure cooker, you'll enjoy tasty meals, prepared swiftly with less effort and mess in the kitchen! ìѕ [INST] What are the benefits of a slow cooker? [/INST] A slow cooker makes the most of less expensive cuts of meat which only need a long, slow cooking time to break them down, which in turn results in succulent, tasty cuts. You can also leave a dinner to simmer away while you're out, so you'll have a hot meal when you return.</s>\n"
     ]
    }
   ],
   "source": [
    "from transformers import AutoTokenizer\n",
    "tokenizer = AutoTokenizer.from_pretrained(\"mistralai/Mistral-7B-v0.1\")\n",
    "messages = [\n",
    "    {\"role\": \"user\", \"content\": \"What is your favourite condiment?\"},\n",
    "    {\"role\": \"assistant\", \"content\": \"Well, I'm quite partial to a good squeeze of fresh lemon juice. It adds just the right amount of zesty flavour to whatever I'm cooking up in the kitchen!\"},\n",
    "    {\"role\": \"user\", \"content\": \"Do you have mayonnaise recipes?\"}\n",
    "]\n",
    "\n",
    "encodeds = tokenizer.apply_chat_template(messages, return_tensors=\"pt\")\n",
    "model_inputs = encodeds.to(device)\n",
    "generated_ids = model_lora.generate(model_inputs, max_new_tokens=1000, do_sample=True)\n",
    "decoded = tokenizer.batch_decode(generated_ids)\n",
    "print(decoded[0])"
   ]
  },
  {
   "cell_type": "markdown",
   "id": "556f7ec2",
   "metadata": {},
   "source": [
    "### Training"
   ]
  },
  {
   "cell_type": "code",
   "execution_count": 6,
   "id": "bae68b21",
   "metadata": {},
   "outputs": [],
   "source": [
    "from datasets import load_dataset\n",
    "import cs247project.evaluate as evaluate\n",
    "import pandas as pd\n",
    "\n",
    "train_dataset = load_dataset(\"cais/mmlu\", \"all\", split='auxiliary_train[0:5%]')"
   ]
  },
  {
   "cell_type": "code",
   "execution_count": 7,
   "id": "d1bbebfe",
   "metadata": {},
   "outputs": [
    {
     "data": {
      "text/html": [
       "\n",
       "    <div>\n",
       "      \n",
       "      <progress value='500' max='500' style='width:300px; height:20px; vertical-align: middle;'></progress>\n",
       "      [500/500 08:10, Epoch 0/1]\n",
       "    </div>\n",
       "    <table border=\"1\" class=\"dataframe\">\n",
       "  <thead>\n",
       " <tr style=\"text-align: left;\">\n",
       "      <th>Step</th>\n",
       "      <th>Training Loss</th>\n",
       "      <th>Validation Loss</th>\n",
       "    </tr>\n",
       "  </thead>\n",
       "  <tbody>\n",
       "  </tbody>\n",
       "</table><p>"
      ],
      "text/plain": [
       "<IPython.core.display.HTML object>"
      ]
     },
     "metadata": {},
     "output_type": "display_data"
    },
    {
     "data": {
      "text/plain": [
       "TrainOutput(global_step=500, training_loss=1.2398942388296128, metrics={'train_runtime': 491.6755, 'train_samples_per_second': 2.034, 'train_steps_per_second': 1.017, 'total_flos': 2.23664406528e+16, 'train_loss': 1.2398942388296128, 'epoch': 0.2})"
      ]
     },
     "execution_count": 7,
     "metadata": {},
     "output_type": "execute_result"
    }
   ],
   "source": [
    "from transformers import TrainingArguments, Trainer, DataCollatorForLanguageModeling, AutoTokenizer\n",
    "# tockenization\n",
    "tokenizer_lora = AutoTokenizer.from_pretrained(\n",
    "    \"mistralai/Mistral-7B-v0.1\",\n",
    "    model_max_length=512,\n",
    "    padding_side=\"left\",\n",
    "    add_eos_token=True)\n",
    "\n",
    "tokenizer_lora.pad_token = tokenizer_lora.eos_token\n",
    "\n",
    "def createTokenizedPrompt(data):\n",
    "    prompt = createTestPrompt(data)\n",
    "    return tokenize(prompt)\n",
    "\n",
    "def createTestPrompt(data):\n",
    "    df = pd.DataFrame()\n",
    "    for key, value in data.items():\n",
    "        df[key]=[str(value)]\n",
    "    prompt = evaluate.gen_prompt(df, \"random topics\")\n",
    "    return prompt\n",
    "    \n",
    "def tokenize(prompt):\n",
    "    result = tokenizer_lora(\n",
    "        prompt,\n",
    "        truncation=True,\n",
    "        max_length=512,\n",
    "        padding=\"max_length\",\n",
    "    )\n",
    "    result[\"labels\"] = result[\"input_ids\"].copy()\n",
    "    return result\n",
    "\n",
    "tokenized_train_dataset = train_dataset.map(createTokenizedPrompt)\n",
    "eval_tokenizer = AutoTokenizer.from_pretrained(\n",
    "    \"mistralai/Mistral-7B-v0.1\",\n",
    "    add_bos_token=True,\n",
    "    trust_remote_code=True,\n",
    ")\n",
    "\n",
    "bs=1        # batch size\n",
    "ga_steps=2  # gradient acc. steps\n",
    "epochs=1\n",
    "steps_per_epoch=len(tokenized_train_dataset)//(bs*ga_steps)\n",
    "\n",
    "args = TrainingArguments(\n",
    "    output_dir=\"lora\",\n",
    "    per_device_train_batch_size=bs,\n",
    "    per_device_eval_batch_size=bs,\n",
    "    evaluation_strategy=\"steps\",\n",
    "    max_steps=500,\n",
    "    logging_steps=1,\n",
    "    eval_steps=steps_per_epoch,  # eval and save once per epoch   \n",
    "    save_steps=steps_per_epoch,\n",
    "    gradient_accumulation_steps=ga_steps,\n",
    "    num_train_epochs=epochs,\n",
    "    lr_scheduler_type=\"constant\",\n",
    "    optim=\"paged_adamw_8bit\",\n",
    "    learning_rate=2.5e-5,\n",
    "    group_by_length=True,\n",
    "    bf16=True,\n",
    "    ddp_find_unused_parameters=False,    # needed for training with accelerate\n",
    "    push_to_hub=True\n",
    ")\n",
    "\n",
    "import transformers\n",
    "\n",
    "trainer = Trainer(\n",
    "    model=model_lora,\n",
    "    tokenizer=tokenizer_lora,\n",
    "    data_collator=transformers.DataCollatorForLanguageModeling(tokenizer_lora, mlm=False),\n",
    "    train_dataset=tokenized_train_dataset,\n",
    "    args=args,\n",
    ")\n",
    "\n",
    "trainer.train()"
   ]
  },
  {
   "cell_type": "code",
   "execution_count": 9,
   "id": "fc53733a",
   "metadata": {},
   "outputs": [
    {
     "data": {
      "application/vnd.jupyter.widget-view+json": {
       "model_id": "09d55ab10b154cbb97080d8713ae1df6",
       "version_major": 2,
       "version_minor": 0
      },
      "text/plain": [
       "VBox(children=(HTML(value='<center> <img\\nsrc=https://huggingface.co/front/assets/huggingface_logo-noborder.sv…"
      ]
     },
     "metadata": {},
     "output_type": "display_data"
    }
   ],
   "source": [
    "from huggingface_hub import notebook_login\n",
    "\n",
    "notebook_login()"
   ]
  },
  {
   "cell_type": "code",
   "execution_count": 10,
   "id": "3794472a",
   "metadata": {},
   "outputs": [
    {
     "name": "stderr",
     "output_type": "stream",
     "text": [
      "/opt/conda/envs/pytorch/lib/python3.10/site-packages/peft/utils/save_and_load.py:139: UserWarning: Setting `save_embedding_layers` to `True` as embedding layers found in `target_modules`.\n",
      "  warnings.warn(\"Setting `save_embedding_layers` to `True` as embedding layers found in `target_modules`.\")\n"
     ]
    },
    {
     "data": {
      "application/vnd.jupyter.widget-view+json": {
       "model_id": "5b510ac248f2475e9dcd0a10cdfcb976",
       "version_major": 2,
       "version_minor": 0
      },
      "text/plain": [
       "Upload 2 LFS files:   0%|          | 0/2 [00:00<?, ?it/s]"
      ]
     },
     "metadata": {},
     "output_type": "display_data"
    },
    {
     "data": {
      "application/vnd.jupyter.widget-view+json": {
       "model_id": "117f6b85050746c18f7921aaf4faed90",
       "version_major": 2,
       "version_minor": 0
      },
      "text/plain": [
       "adapter_model.safetensors:   0%|          | 0.00/602M [00:00<?, ?B/s]"
      ]
     },
     "metadata": {},
     "output_type": "display_data"
    },
    {
     "data": {
      "application/vnd.jupyter.widget-view+json": {
       "model_id": "ba182a4019b2429da8fbe0f375c33145",
       "version_major": 2,
       "version_minor": 0
      },
      "text/plain": [
       "training_args.bin:   0%|          | 0.00/4.86k [00:00<?, ?B/s]"
      ]
     },
     "metadata": {},
     "output_type": "display_data"
    },
    {
     "data": {
      "text/plain": [
       "CommitInfo(commit_url='https://huggingface.co/siyuel01/lora/commit/6d318ff61c38dc6e2cbd078ec3edddb605d2bc2d', commit_message='mistral-7b_lora', commit_description='', oid='6d318ff61c38dc6e2cbd078ec3edddb605d2bc2d', pr_url=None, pr_revision=None, pr_num=None)"
      ]
     },
     "execution_count": 10,
     "metadata": {},
     "output_type": "execute_result"
    }
   ],
   "source": [
    "trainer.push_to_hub('mistral-7b_lora')"
   ]
  },
  {
   "cell_type": "code",
   "execution_count": 1,
   "id": "49106ec1",
   "metadata": {},
   "outputs": [],
   "source": [
    "import cs247project.evaluate as evaluate\n",
    "import argparse"
   ]
  },
  {
   "cell_type": "code",
   "execution_count": 2,
   "id": "0022d0fc",
   "metadata": {},
   "outputs": [
    {
     "name": "stdout",
     "output_type": "stream",
     "text": [
      "['abstract_algebra', 'anatomy', 'astronomy', 'business_ethics', 'clinical_knowledge', 'college_biology', 'college_chemistry', 'college_computer_science', 'college_mathematics', 'college_medicine', 'college_physics', 'computer_security', 'conceptual_physics', 'econometrics', 'electrical_engineering', 'elementary_mathematics', 'formal_logic', 'global_facts', 'high_school_biology', 'high_school_chemistry', 'high_school_computer_science', 'high_school_european_history', 'high_school_geography', 'high_school_government_and_politics', 'high_school_macroeconomics', 'high_school_mathematics', 'high_school_microeconomics', 'high_school_physics', 'high_school_psychology', 'high_school_statistics', 'high_school_us_history', 'high_school_world_history', 'human_aging', 'human_sexuality', 'international_law', 'jurisprudence', 'logical_fallacies', 'machine_learning', 'management', 'marketing', 'medical_genetics', 'miscellaneous', 'moral_disputes', 'moral_scenarios', 'nutrition', 'philosophy', 'prehistory', 'professional_accounting', 'professional_law', 'professional_medicine', 'professional_psychology', 'public_relations', 'security_studies', 'sociology', 'us_foreign_policy', 'virology', 'world_religions']\n",
      "Namespace(ntrain=5, data_dir='cs247project/data', save_dir='cs247project/results', model='mistralai/Mistral-7B-v0.1', quantization='lora')\n"
     ]
    },
    {
     "data": {
      "application/vnd.jupyter.widget-view+json": {
       "model_id": "9a4221ea71e54afdba192926f022e1e4",
       "version_major": 2,
       "version_minor": 0
      },
      "text/plain": [
       "Loading checkpoint shards:   0%|          | 0/2 [00:00<?, ?it/s]"
      ]
     },
     "metadata": {},
     "output_type": "display_data"
    },
    {
     "name": "stdout",
     "output_type": "stream",
     "text": [
      "Average accuracy 0.310 - abstract_algebra\n",
      "Average accuracy 0.607 - anatomy\n",
      "Average accuracy 0.658 - astronomy\n",
      "Average accuracy 0.570 - business_ethics\n",
      "Average accuracy 0.702 - clinical_knowledge\n",
      "Average accuracy 0.694 - college_biology\n",
      "Average accuracy 0.520 - college_chemistry\n",
      "Average accuracy 0.530 - college_computer_science\n",
      "Average accuracy 0.380 - college_mathematics\n",
      "Average accuracy 0.630 - college_medicine\n",
      "Average accuracy 0.353 - college_physics\n",
      "Average accuracy 0.760 - computer_security\n",
      "Average accuracy 0.570 - conceptual_physics\n",
      "Average accuracy 0.474 - econometrics\n",
      "Average accuracy 0.579 - electrical_engineering\n",
      "Average accuracy 0.384 - elementary_mathematics\n",
      "Average accuracy 0.421 - formal_logic\n",
      "Average accuracy 0.300 - global_facts\n",
      "Average accuracy 0.761 - high_school_biology\n",
      "Average accuracy 0.498 - high_school_chemistry\n",
      "Average accuracy 0.650 - high_school_computer_science\n",
      "Average accuracy 0.794 - high_school_european_history\n",
      "Average accuracy 0.783 - high_school_geography\n",
      "Average accuracy 0.850 - high_school_government_and_politics\n",
      "Average accuracy 0.638 - high_school_macroeconomics\n",
      "Average accuracy 0.344 - high_school_mathematics\n",
      "Average accuracy 0.664 - high_school_microeconomics\n",
      "Average accuracy 0.278 - high_school_physics\n",
      "Average accuracy 0.822 - high_school_psychology\n",
      "Average accuracy 0.500 - high_school_statistics\n",
      "Average accuracy 0.784 - high_school_us_history\n",
      "Average accuracy 0.768 - high_school_world_history\n",
      "Average accuracy 0.673 - human_aging\n",
      "Average accuracy 0.733 - human_sexuality\n",
      "Average accuracy 0.785 - international_law\n",
      "Average accuracy 0.778 - jurisprudence\n",
      "Average accuracy 0.736 - logical_fallacies\n",
      "Average accuracy 0.491 - machine_learning\n",
      "Average accuracy 0.806 - management\n",
      "Average accuracy 0.868 - marketing\n",
      "Average accuracy 0.740 - medical_genetics\n",
      "Average accuracy 0.812 - miscellaneous\n",
      "Average accuracy 0.714 - moral_disputes\n",
      "Average accuracy 0.305 - moral_scenarios\n",
      "Average accuracy 0.709 - nutrition\n",
      "Average accuracy 0.695 - philosophy\n",
      "Average accuracy 0.725 - prehistory\n",
      "Average accuracy 0.433 - professional_accounting\n",
      "Average accuracy 0.437 - professional_law\n",
      "Average accuracy 0.662 - professional_medicine\n",
      "Average accuracy 0.663 - professional_psychology\n",
      "Average accuracy 0.655 - public_relations\n",
      "Average accuracy 0.710 - security_studies\n",
      "Average accuracy 0.836 - sociology\n",
      "Average accuracy 0.850 - us_foreign_policy\n",
      "Average accuracy 0.548 - virology\n",
      "Average accuracy 0.842 - world_religions\n",
      "Average accuracy: 0.613\n"
     ]
    }
   ],
   "source": [
    "argument = \"--ntrain 5 --data_dir data --save_dir results --model mistralai/Mistral-7B-v0.1 --quantization lora\"\n",
    "argument = argument.split(\" \")\n",
    "parser = evaluate.get_parser()\n",
    "args = parser.parse_args(argument)\n",
    "accuracy_result = evaluate.main(args)"
   ]
  },
  {
   "cell_type": "code",
   "execution_count": 4,
   "id": "2eee4eac",
   "metadata": {},
   "outputs": [
    {
     "name": "stdout",
     "output_type": "stream",
     "text": [
      "{'STEM': 0.5144444444444445, 'humanities': 0.6756923076923076, 'social sciences': 0.7231666666666667, 'other (business, health, misc.)': 0.6471428571428571}\r\n"
     ]
    },
    {
     "name": "stderr",
     "output_type": "stream",
     "text": [
      "huggingface/tokenizers: The current process just got forked, after parallelism has already been used. Disabling parallelism to avoid deadlocks...\n",
      "To disable this warning, you can either:\n",
      "\t- Avoid using `tokenizers` before the fork if possible\n",
      "\t- Explicitly set the environment variable TOKENIZERS_PARALLELISM=(true | false)\n"
     ]
    }
   ],
   "source": [
    "!python cat.py"
   ]
  }
 ],
 "metadata": {
  "kernelspec": {
   "display_name": "Python 3 (ipykernel)",
   "language": "python",
   "name": "python3"
  },
  "language_info": {
   "codemirror_mode": {
    "name": "ipython",
    "version": 3
   },
   "file_extension": ".py",
   "mimetype": "text/x-python",
   "name": "python",
   "nbconvert_exporter": "python",
   "pygments_lexer": "ipython3",
   "version": "3.10.13"
  }
 },
 "nbformat": 4,
 "nbformat_minor": 5
}
